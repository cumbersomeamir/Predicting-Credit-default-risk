{
  "nbformat": 4,
  "nbformat_minor": 0,
  "metadata": {
    "colab": {
      "name": "home credit neural network.ipynb",
      "provenance": []
    },
    "kernelspec": {
      "name": "python3",
      "display_name": "Python 3"
    }
  },
  "cells": [
    {
      "cell_type": "markdown",
      "metadata": {
        "id": "6Pv3lLwD0qBo",
        "colab_type": "text"
      },
      "source": [
        "# Mounting Google drive for reading data "
      ]
    },
    {
      "cell_type": "code",
      "metadata": {
        "id": "mQR8Tn0Q0N20",
        "colab_type": "code",
        "colab": {}
      },
      "source": [
        "from pydrive.auth import GoogleAuth\n",
        "from pydrive.drive import GoogleDrive\n",
        "from google.colab import auth, drive\n",
        "from oauth2client.client import GoogleCredentials\n",
        "\n",
        "auth.authenticate_user()\n",
        "gauth = GoogleAuth()\n",
        "gauth.credentials = GoogleCredentials.get_application_default()\n",
        "drive = GoogleDrive(gauth)"
      ],
      "execution_count": 2,
      "outputs": []
    },
    {
      "cell_type": "markdown",
      "metadata": {
        "id": "NzulLfYo1CAN",
        "colab_type": "text"
      },
      "source": [
        "# Importing the relevant libraries"
      ]
    },
    {
      "cell_type": "code",
      "metadata": {
        "id": "L224Yeo91JDa",
        "colab_type": "code",
        "colab": {}
      },
      "source": [
        "import tensorflow as tf \n",
        "import pandas as pd \n",
        "import numpy as np \n",
        "import matplotlib.pyplot as plt \n",
        "from tensorflow.keras.layers import Dense, Activation, Dropout \n",
        "from tensorflow.keras.models import Sequential\n",
        "from tensorflow.keras.callbacks import TensorBoard\n",
        "import time\n",
        "%matplotlib inline\n",
        "from sklearn.model_selection import train_test_split"
      ],
      "execution_count": 3,
      "outputs": []
    },
    {
      "cell_type": "markdown",
      "metadata": {
        "id": "R33h5cYv2VjX",
        "colab_type": "text"
      },
      "source": [
        "# Loading the Analysing the data"
      ]
    },
    {
      "cell_type": "code",
      "metadata": {
        "id": "msh98HCz2ZB3",
        "colab_type": "code",
        "colab": {
          "base_uri": "https://localhost:8080/",
          "height": 134
        },
        "outputId": "71c8d484-fe46-4aef-d61b-1f41d8a8f973"
      },
      "source": [
        "df =pd.read_csv('/content/drive/My Drive/credit.csv')\n",
        "df.columns\n",
        "print(np.unique(df['education']))\n",
        "print(np.unique(df['timeliness_1']))\n",
        "print(np.unique(df['timeliness_2']))\n",
        "print(np.unique(df['timeliness_3']))\n",
        "print(np.unique(df['timeliness_4']))\n",
        "print(np.unique(df['timeliness_5']))\n",
        "print(np.unique(df['timeliness_6']))\n"
      ],
      "execution_count": 4,
      "outputs": [
        {
          "output_type": "stream",
          "text": [
            "['0' 'grad' 'hs' 'other1' 'other2' 'other3' 'uni']\n",
            "['m+0' 'm+1' 'm+2' 'm+3' 'm+4' 'm+5' 'm+6' 'm+7' 'm+8' 'm-1' 'm-2']\n",
            "['m+0' 'm+1' 'm+2' 'm+3' 'm+4' 'm+5' 'm+6' 'm+7' 'm+8' 'm-1' 'm-2']\n",
            "['m+0' 'm+1' 'm+2' 'm+3' 'm+4' 'm+5' 'm+6' 'm+7' 'm+8' 'm-1' 'm-2']\n",
            "['m+0' 'm+1' 'm+2' 'm+3' 'm+4' 'm+5' 'm+6' 'm+7' 'm+8' 'm-1' 'm-2']\n",
            "['m+0' 'm+2' 'm+3' 'm+4' 'm+5' 'm+6' 'm+7' 'm+8' 'm-1' 'm-2']\n",
            "['m+0' 'm+2' 'm+3' 'm+4' 'm+5' 'm+6' 'm+7' 'm+8' 'm-1' 'm-2']\n"
          ],
          "name": "stdout"
        }
      ]
    },
    {
      "cell_type": "code",
      "metadata": {
        "id": "_mXw4sKZ36_6",
        "colab_type": "code",
        "colab": {
          "base_uri": "https://localhost:8080/",
          "height": 215
        },
        "outputId": "0461e13b-a295-4ed7-ed97-fc7820351307"
      },
      "source": [
        "df.head()"
      ],
      "execution_count": 5,
      "outputs": [
        {
          "output_type": "execute_result",
          "data": {
            "text/html": [
              "<div>\n",
              "<style scoped>\n",
              "    .dataframe tbody tr th:only-of-type {\n",
              "        vertical-align: middle;\n",
              "    }\n",
              "\n",
              "    .dataframe tbody tr th {\n",
              "        vertical-align: top;\n",
              "    }\n",
              "\n",
              "    .dataframe thead th {\n",
              "        text-align: right;\n",
              "    }\n",
              "</style>\n",
              "<table border=\"1\" class=\"dataframe\">\n",
              "  <thead>\n",
              "    <tr style=\"text-align: right;\">\n",
              "      <th></th>\n",
              "      <th>credit_limit</th>\n",
              "      <th>gender</th>\n",
              "      <th>education</th>\n",
              "      <th>marital_status</th>\n",
              "      <th>age</th>\n",
              "      <th>timeliness_1</th>\n",
              "      <th>timeliness_2</th>\n",
              "      <th>timeliness_3</th>\n",
              "      <th>timeliness_4</th>\n",
              "      <th>timeliness_5</th>\n",
              "      <th>timeliness_6</th>\n",
              "      <th>balance_1</th>\n",
              "      <th>balance_2</th>\n",
              "      <th>balance_3</th>\n",
              "      <th>balance_4</th>\n",
              "      <th>balance_5</th>\n",
              "      <th>balance_6</th>\n",
              "      <th>payment_1</th>\n",
              "      <th>payment_2</th>\n",
              "      <th>payment_3</th>\n",
              "      <th>payment_4</th>\n",
              "      <th>payment_5</th>\n",
              "      <th>payment_6</th>\n",
              "      <th>avg_balance</th>\n",
              "      <th>avg_payment</th>\n",
              "      <th>default</th>\n",
              "    </tr>\n",
              "  </thead>\n",
              "  <tbody>\n",
              "    <tr>\n",
              "      <th>0</th>\n",
              "      <td>20000</td>\n",
              "      <td>female</td>\n",
              "      <td>uni</td>\n",
              "      <td>married</td>\n",
              "      <td>24</td>\n",
              "      <td>m+2</td>\n",
              "      <td>m+2</td>\n",
              "      <td>m-1</td>\n",
              "      <td>m-1</td>\n",
              "      <td>m-2</td>\n",
              "      <td>m-2</td>\n",
              "      <td>3913</td>\n",
              "      <td>3102</td>\n",
              "      <td>689</td>\n",
              "      <td>0</td>\n",
              "      <td>0</td>\n",
              "      <td>0</td>\n",
              "      <td>0</td>\n",
              "      <td>689</td>\n",
              "      <td>0</td>\n",
              "      <td>0</td>\n",
              "      <td>0</td>\n",
              "      <td>0</td>\n",
              "      <td>1284.000000</td>\n",
              "      <td>114.833333</td>\n",
              "      <td>yes</td>\n",
              "    </tr>\n",
              "    <tr>\n",
              "      <th>1</th>\n",
              "      <td>120000</td>\n",
              "      <td>female</td>\n",
              "      <td>uni</td>\n",
              "      <td>single</td>\n",
              "      <td>26</td>\n",
              "      <td>m-1</td>\n",
              "      <td>m+2</td>\n",
              "      <td>m+0</td>\n",
              "      <td>m+0</td>\n",
              "      <td>m+0</td>\n",
              "      <td>m+2</td>\n",
              "      <td>2682</td>\n",
              "      <td>1725</td>\n",
              "      <td>2682</td>\n",
              "      <td>3272</td>\n",
              "      <td>3455</td>\n",
              "      <td>3261</td>\n",
              "      <td>0</td>\n",
              "      <td>1000</td>\n",
              "      <td>1000</td>\n",
              "      <td>1000</td>\n",
              "      <td>0</td>\n",
              "      <td>2000</td>\n",
              "      <td>2846.166667</td>\n",
              "      <td>833.333333</td>\n",
              "      <td>yes</td>\n",
              "    </tr>\n",
              "    <tr>\n",
              "      <th>2</th>\n",
              "      <td>90000</td>\n",
              "      <td>female</td>\n",
              "      <td>uni</td>\n",
              "      <td>single</td>\n",
              "      <td>34</td>\n",
              "      <td>m+0</td>\n",
              "      <td>m+0</td>\n",
              "      <td>m+0</td>\n",
              "      <td>m+0</td>\n",
              "      <td>m+0</td>\n",
              "      <td>m+0</td>\n",
              "      <td>29239</td>\n",
              "      <td>14027</td>\n",
              "      <td>13559</td>\n",
              "      <td>14331</td>\n",
              "      <td>14948</td>\n",
              "      <td>15549</td>\n",
              "      <td>1518</td>\n",
              "      <td>1500</td>\n",
              "      <td>1000</td>\n",
              "      <td>1000</td>\n",
              "      <td>1000</td>\n",
              "      <td>5000</td>\n",
              "      <td>16942.166667</td>\n",
              "      <td>1836.333333</td>\n",
              "      <td>no</td>\n",
              "    </tr>\n",
              "    <tr>\n",
              "      <th>3</th>\n",
              "      <td>50000</td>\n",
              "      <td>female</td>\n",
              "      <td>uni</td>\n",
              "      <td>married</td>\n",
              "      <td>37</td>\n",
              "      <td>m+0</td>\n",
              "      <td>m+0</td>\n",
              "      <td>m+0</td>\n",
              "      <td>m+0</td>\n",
              "      <td>m+0</td>\n",
              "      <td>m+0</td>\n",
              "      <td>46990</td>\n",
              "      <td>48233</td>\n",
              "      <td>49291</td>\n",
              "      <td>28314</td>\n",
              "      <td>28959</td>\n",
              "      <td>29547</td>\n",
              "      <td>2000</td>\n",
              "      <td>2019</td>\n",
              "      <td>1200</td>\n",
              "      <td>1100</td>\n",
              "      <td>1069</td>\n",
              "      <td>1000</td>\n",
              "      <td>38555.666667</td>\n",
              "      <td>1398.000000</td>\n",
              "      <td>no</td>\n",
              "    </tr>\n",
              "    <tr>\n",
              "      <th>4</th>\n",
              "      <td>50000</td>\n",
              "      <td>male</td>\n",
              "      <td>uni</td>\n",
              "      <td>married</td>\n",
              "      <td>57</td>\n",
              "      <td>m-1</td>\n",
              "      <td>m+0</td>\n",
              "      <td>m-1</td>\n",
              "      <td>m+0</td>\n",
              "      <td>m+0</td>\n",
              "      <td>m+0</td>\n",
              "      <td>8617</td>\n",
              "      <td>5670</td>\n",
              "      <td>35835</td>\n",
              "      <td>20940</td>\n",
              "      <td>19146</td>\n",
              "      <td>19131</td>\n",
              "      <td>2000</td>\n",
              "      <td>36681</td>\n",
              "      <td>10000</td>\n",
              "      <td>9000</td>\n",
              "      <td>689</td>\n",
              "      <td>679</td>\n",
              "      <td>18223.166667</td>\n",
              "      <td>9841.500000</td>\n",
              "      <td>no</td>\n",
              "    </tr>\n",
              "  </tbody>\n",
              "</table>\n",
              "</div>"
            ],
            "text/plain": [
              "   credit_limit  gender education  ...   avg_balance  avg_payment default\n",
              "0         20000  female       uni  ...   1284.000000   114.833333     yes\n",
              "1        120000  female       uni  ...   2846.166667   833.333333     yes\n",
              "2         90000  female       uni  ...  16942.166667  1836.333333      no\n",
              "3         50000  female       uni  ...  38555.666667  1398.000000      no\n",
              "4         50000    male       uni  ...  18223.166667  9841.500000      no\n",
              "\n",
              "[5 rows x 26 columns]"
            ]
          },
          "metadata": {
            "tags": []
          },
          "execution_count": 5
        }
      ]
    },
    {
      "cell_type": "code",
      "metadata": {
        "id": "AN5DHhWwGTbW",
        "colab_type": "code",
        "colab": {}
      },
      "source": [
        "from tensorflow.keras.utils import to_categorical\n",
        "df['gender'] = pd.get_dummies(df['gender'])\n",
        "df['default']= pd.get_dummies(df['default'])\n",
        "df['marital_status']= pd.get_dummies(df['marital_status'])\n"
      ],
      "execution_count": 6,
      "outputs": []
    },
    {
      "cell_type": "code",
      "metadata": {
        "id": "YE6f_ygo232f",
        "colab_type": "code",
        "colab": {
          "base_uri": "https://localhost:8080/",
          "height": 215
        },
        "outputId": "e0c7396a-29d4-4d34-c216-233d7e2eaf7e"
      },
      "source": [
        "df.head()"
      ],
      "execution_count": 108,
      "outputs": [
        {
          "output_type": "execute_result",
          "data": {
            "text/html": [
              "<div>\n",
              "<style scoped>\n",
              "    .dataframe tbody tr th:only-of-type {\n",
              "        vertical-align: middle;\n",
              "    }\n",
              "\n",
              "    .dataframe tbody tr th {\n",
              "        vertical-align: top;\n",
              "    }\n",
              "\n",
              "    .dataframe thead th {\n",
              "        text-align: right;\n",
              "    }\n",
              "</style>\n",
              "<table border=\"1\" class=\"dataframe\">\n",
              "  <thead>\n",
              "    <tr style=\"text-align: right;\">\n",
              "      <th></th>\n",
              "      <th>credit_limit</th>\n",
              "      <th>gender</th>\n",
              "      <th>education</th>\n",
              "      <th>marital_status</th>\n",
              "      <th>age</th>\n",
              "      <th>timeliness_1</th>\n",
              "      <th>timeliness_2</th>\n",
              "      <th>timeliness_3</th>\n",
              "      <th>timeliness_4</th>\n",
              "      <th>timeliness_5</th>\n",
              "      <th>timeliness_6</th>\n",
              "      <th>balance_1</th>\n",
              "      <th>balance_2</th>\n",
              "      <th>balance_3</th>\n",
              "      <th>balance_4</th>\n",
              "      <th>balance_5</th>\n",
              "      <th>balance_6</th>\n",
              "      <th>payment_1</th>\n",
              "      <th>payment_2</th>\n",
              "      <th>payment_3</th>\n",
              "      <th>payment_4</th>\n",
              "      <th>payment_5</th>\n",
              "      <th>payment_6</th>\n",
              "      <th>avg_balance</th>\n",
              "      <th>avg_payment</th>\n",
              "      <th>default</th>\n",
              "    </tr>\n",
              "  </thead>\n",
              "  <tbody>\n",
              "    <tr>\n",
              "      <th>0</th>\n",
              "      <td>20000</td>\n",
              "      <td>1</td>\n",
              "      <td>uni</td>\n",
              "      <td>1</td>\n",
              "      <td>24</td>\n",
              "      <td>m+2</td>\n",
              "      <td>m+2</td>\n",
              "      <td>m-1</td>\n",
              "      <td>m-1</td>\n",
              "      <td>m-2</td>\n",
              "      <td>m-2</td>\n",
              "      <td>3913</td>\n",
              "      <td>3102</td>\n",
              "      <td>689</td>\n",
              "      <td>0</td>\n",
              "      <td>0</td>\n",
              "      <td>0</td>\n",
              "      <td>0</td>\n",
              "      <td>689</td>\n",
              "      <td>0</td>\n",
              "      <td>0</td>\n",
              "      <td>0</td>\n",
              "      <td>0</td>\n",
              "      <td>1284.000000</td>\n",
              "      <td>114.833333</td>\n",
              "      <td>0</td>\n",
              "    </tr>\n",
              "    <tr>\n",
              "      <th>1</th>\n",
              "      <td>120000</td>\n",
              "      <td>1</td>\n",
              "      <td>uni</td>\n",
              "      <td>0</td>\n",
              "      <td>26</td>\n",
              "      <td>m-1</td>\n",
              "      <td>m+2</td>\n",
              "      <td>m+0</td>\n",
              "      <td>m+0</td>\n",
              "      <td>m+0</td>\n",
              "      <td>m+2</td>\n",
              "      <td>2682</td>\n",
              "      <td>1725</td>\n",
              "      <td>2682</td>\n",
              "      <td>3272</td>\n",
              "      <td>3455</td>\n",
              "      <td>3261</td>\n",
              "      <td>0</td>\n",
              "      <td>1000</td>\n",
              "      <td>1000</td>\n",
              "      <td>1000</td>\n",
              "      <td>0</td>\n",
              "      <td>2000</td>\n",
              "      <td>2846.166667</td>\n",
              "      <td>833.333333</td>\n",
              "      <td>0</td>\n",
              "    </tr>\n",
              "    <tr>\n",
              "      <th>2</th>\n",
              "      <td>90000</td>\n",
              "      <td>1</td>\n",
              "      <td>uni</td>\n",
              "      <td>0</td>\n",
              "      <td>34</td>\n",
              "      <td>m+0</td>\n",
              "      <td>m+0</td>\n",
              "      <td>m+0</td>\n",
              "      <td>m+0</td>\n",
              "      <td>m+0</td>\n",
              "      <td>m+0</td>\n",
              "      <td>29239</td>\n",
              "      <td>14027</td>\n",
              "      <td>13559</td>\n",
              "      <td>14331</td>\n",
              "      <td>14948</td>\n",
              "      <td>15549</td>\n",
              "      <td>1518</td>\n",
              "      <td>1500</td>\n",
              "      <td>1000</td>\n",
              "      <td>1000</td>\n",
              "      <td>1000</td>\n",
              "      <td>5000</td>\n",
              "      <td>16942.166667</td>\n",
              "      <td>1836.333333</td>\n",
              "      <td>1</td>\n",
              "    </tr>\n",
              "    <tr>\n",
              "      <th>3</th>\n",
              "      <td>50000</td>\n",
              "      <td>1</td>\n",
              "      <td>uni</td>\n",
              "      <td>1</td>\n",
              "      <td>37</td>\n",
              "      <td>m+0</td>\n",
              "      <td>m+0</td>\n",
              "      <td>m+0</td>\n",
              "      <td>m+0</td>\n",
              "      <td>m+0</td>\n",
              "      <td>m+0</td>\n",
              "      <td>46990</td>\n",
              "      <td>48233</td>\n",
              "      <td>49291</td>\n",
              "      <td>28314</td>\n",
              "      <td>28959</td>\n",
              "      <td>29547</td>\n",
              "      <td>2000</td>\n",
              "      <td>2019</td>\n",
              "      <td>1200</td>\n",
              "      <td>1100</td>\n",
              "      <td>1069</td>\n",
              "      <td>1000</td>\n",
              "      <td>38555.666667</td>\n",
              "      <td>1398.000000</td>\n",
              "      <td>1</td>\n",
              "    </tr>\n",
              "    <tr>\n",
              "      <th>4</th>\n",
              "      <td>50000</td>\n",
              "      <td>0</td>\n",
              "      <td>uni</td>\n",
              "      <td>1</td>\n",
              "      <td>57</td>\n",
              "      <td>m-1</td>\n",
              "      <td>m+0</td>\n",
              "      <td>m-1</td>\n",
              "      <td>m+0</td>\n",
              "      <td>m+0</td>\n",
              "      <td>m+0</td>\n",
              "      <td>8617</td>\n",
              "      <td>5670</td>\n",
              "      <td>35835</td>\n",
              "      <td>20940</td>\n",
              "      <td>19146</td>\n",
              "      <td>19131</td>\n",
              "      <td>2000</td>\n",
              "      <td>36681</td>\n",
              "      <td>10000</td>\n",
              "      <td>9000</td>\n",
              "      <td>689</td>\n",
              "      <td>679</td>\n",
              "      <td>18223.166667</td>\n",
              "      <td>9841.500000</td>\n",
              "      <td>1</td>\n",
              "    </tr>\n",
              "  </tbody>\n",
              "</table>\n",
              "</div>"
            ],
            "text/plain": [
              "   credit_limit  gender education  ...   avg_balance  avg_payment default\n",
              "0         20000       1       uni  ...   1284.000000   114.833333       0\n",
              "1        120000       1       uni  ...   2846.166667   833.333333       0\n",
              "2         90000       1       uni  ...  16942.166667  1836.333333       1\n",
              "3         50000       1       uni  ...  38555.666667  1398.000000       1\n",
              "4         50000       0       uni  ...  18223.166667  9841.500000       1\n",
              "\n",
              "[5 rows x 26 columns]"
            ]
          },
          "metadata": {
            "tags": []
          },
          "execution_count": 108
        }
      ]
    },
    {
      "cell_type": "code",
      "metadata": {
        "id": "0ysa3SZD3urt",
        "colab_type": "code",
        "colab": {}
      },
      "source": [
        "df =df.replace({'education' : { '0': 0, 'hs' : 1, 'uni' : 2, 'grad' : 3, 'other1': 4, 'other2' :5, 'other3': 6 }})\n",
        "df =df.replace({'timeliness_1' : { 'm+0':0, 'm+1':1, 'm+2':2, 'm+3':3, 'm+4':4 ,'m+5':5, 'm+6':6, 'm+7':7, 'm+8':8, 'm-1':-1 ,'m-2':-2 }})\n",
        "df= df.replace({'timeliness_2' : { 'm+0':0, 'm+1':1, 'm+2':2, 'm+3':3, 'm+4':4 ,'m+5':5, 'm+6':6, 'm+7':7, 'm+8':8, 'm-1':-1 ,'m-2':-2 }})\n",
        "df = df.replace({'timeliness_3' : { 'm+0':0, 'm+1':1, 'm+2':2, 'm+3':3, 'm+4':4 ,'m+5':5, 'm+6':6, 'm+7':7, 'm+8':8, 'm-1':-1, 'm-2':-2 }})\n",
        "df=df.replace({'timeliness_4' : { 'm+0':0, 'm+1':1, 'm+2':2, 'm+3':3, 'm+4':4 ,'m+5':5, 'm+6':6, 'm+7':7, 'm+8':8, 'm-1':-1, 'm-2':-2 }})\n",
        "df =df.replace({'timeliness_5' : { 'm+0':0,'m+2':2, 'm+3':3, 'm+4':4 ,'m+5':5, 'm+6':6, 'm+7':7, 'm+8':8, 'm-1':-1, 'm-2':-2 }})\n",
        "df =df.replace({'timeliness_6' : { 'm+0':0, 'm+2':2, 'm+3':3, 'm+4':4 ,'m+5':5, 'm+6':6, 'm+7':7, 'm+8':8, 'm-1':-1, 'm-2':-2 }})\n",
        "\n",
        "\n"
      ],
      "execution_count": 7,
      "outputs": []
    },
    {
      "cell_type": "code",
      "metadata": {
        "id": "rtDNTCS8D2mq",
        "colab_type": "code",
        "colab": {
          "base_uri": "https://localhost:8080/",
          "height": 151
        },
        "outputId": "d4a17e15-a8ab-4087-a3f6-e03f2fb27635"
      },
      "source": [
        "#Checking the unique values again\n",
        "print(df.education.unique())\n",
        "print(df.timeliness_1.unique())\n",
        "print(df.timeliness_2.unique())\n",
        "print(df.timeliness_3.unique())\n",
        "print(df.timeliness_4.unique())\n",
        "print(df.timeliness_5.unique())\n",
        "print(df.timeliness_6.unique())\n",
        "print(df.default.unique())"
      ],
      "execution_count": 8,
      "outputs": [
        {
          "output_type": "stream",
          "text": [
            "[2 3 1 5 4 6 0]\n",
            "[ 2 -1  0 -2  1  3  4  8  7  5  6]\n",
            "[ 2  0 -1 -2  3  5  7  4  1  6  8]\n",
            "[-1  0  2 -2  3  4  6  7  1  5  8]\n",
            "[-1  0 -2  2  3  4  5  7  6  1  8]\n",
            "[-2  0 -1  2  3  5  4  7  8  6]\n",
            "[-2  2  0 -1  3  6  4  7  8  5]\n",
            "[0 1]\n"
          ],
          "name": "stdout"
        }
      ]
    },
    {
      "cell_type": "markdown",
      "metadata": {
        "id": "YwVdpTckPQT0",
        "colab_type": "text"
      },
      "source": [
        "Separating the data and labels for the model"
      ]
    },
    {
      "cell_type": "code",
      "metadata": {
        "id": "Pjv4rmc5PWai",
        "colab_type": "code",
        "colab": {
          "base_uri": "https://localhost:8080/",
          "height": 487
        },
        "outputId": "61101709-2091-4a9f-c91e-ab2ea6b0ea34"
      },
      "source": [
        "y= df['default']\n",
        "X = df.drop(columns = 'default')\n",
        "print(y)\n",
        "print(X)\n",
        "print(y.shape)\n",
        "print(X.shape)"
      ],
      "execution_count": 9,
      "outputs": [
        {
          "output_type": "stream",
          "text": [
            "0        0\n",
            "1        0\n",
            "2        1\n",
            "3        1\n",
            "4        1\n",
            "        ..\n",
            "29995    0\n",
            "29996    1\n",
            "29997    1\n",
            "29998    0\n",
            "29999    0\n",
            "Name: default, Length: 30000, dtype: uint8\n",
            "       credit_limit  gender  education  ...  payment_6    avg_balance   avg_payment\n",
            "0             20000       1          2  ...          0    1284.000000    114.833333\n",
            "1            120000       1          2  ...       2000    2846.166667    833.333333\n",
            "2             90000       1          2  ...       5000   16942.166667   1836.333333\n",
            "3             50000       1          2  ...       1000   38555.666667   1398.000000\n",
            "4             50000       0          2  ...        679   18223.166667   9841.500000\n",
            "...             ...     ...        ...  ...        ...            ...           ...\n",
            "29995         80000       0          2  ...       4000   78488.833333   3583.333333\n",
            "29996        220000       0          1  ...       1000  120891.500000   7091.666667\n",
            "29997        150000       0          1  ...          0    3530.333333   2415.000000\n",
            "29998         30000       0          2  ...       3100   11749.333333   5216.666667\n",
            "29999         80000       0          1  ...       1804   44435.166667  24530.166667\n",
            "\n",
            "[30000 rows x 25 columns]\n",
            "(30000,)\n",
            "(30000, 25)\n"
          ],
          "name": "stdout"
        }
      ]
    },
    {
      "cell_type": "markdown",
      "metadata": {
        "id": "zXECrMolQyhJ",
        "colab_type": "text"
      },
      "source": [
        "Splitting the data into training and testing sets"
      ]
    },
    {
      "cell_type": "code",
      "metadata": {
        "id": "DIMDnEvrQ6mY",
        "colab_type": "code",
        "colab": {
          "base_uri": "https://localhost:8080/",
          "height": 84
        },
        "outputId": "26dd8a9b-e8d5-47ee-be90-31d24193e70f"
      },
      "source": [
        "from sklearn.model_selection import train_test_split\n",
        "X_train, X_test , y_train, y_test = train_test_split(X,y,random_state = 0)\n",
        "print(X_train.shape)\n",
        "print(y_train.shape)\n",
        "print(X_test.shape)\n",
        "print(y_test.shape)"
      ],
      "execution_count": 10,
      "outputs": [
        {
          "output_type": "stream",
          "text": [
            "(22500, 25)\n",
            "(22500,)\n",
            "(7500, 25)\n",
            "(7500,)\n"
          ],
          "name": "stdout"
        }
      ]
    },
    {
      "cell_type": "markdown",
      "metadata": {
        "id": "WFSPdF6gRz2H",
        "colab_type": "text"
      },
      "source": [
        "# Building the model"
      ]
    },
    {
      "cell_type": "code",
      "metadata": {
        "id": "rDZd3wCXR46-",
        "colab_type": "code",
        "colab": {
          "base_uri": "https://localhost:8080/",
          "height": 554
        },
        "outputId": "2a7fd845-4d1e-4a15-db03-d6d4003a8e35"
      },
      "source": [
        "\n",
        "\n",
        "\n",
        "\n",
        "model = Sequential()\n",
        "\n",
        "#Input layer\n",
        "model.add(Dense(256, input_dim = 25,activation='tanh' ))\n",
        "#Hidden layers \n",
        "model.add(Dense(32,activation='relu'))\n",
        "model.add(Dropout(0.3, noise_shape=None, seed =None))\n",
        "model.add(Dense(8,activation ='relu'))\n",
        "model.add(Dense(64, activation='softmax'))\n",
        "model.add(Dropout(0.3))\n",
        "#Output Layer\n",
        "model.add(Dense(1))\n",
        "\n",
        "\n",
        "model.compile(loss = 'binary_crossentropy', optimizer ='adam', metrics = ['accuracy'])\n",
        "fitted_model = model.fit(X_train,y_train, batch_size =20, epochs =5, validation_data= (X_test,y_test))\n",
        "model.summary()\n"
      ],
      "execution_count": 49,
      "outputs": [
        {
          "output_type": "stream",
          "text": [
            "Epoch 1/5\n",
            "1125/1125 [==============================] - 2s 2ms/step - loss: 0.6866 - accuracy: 0.6361 - val_loss: 0.5438 - val_accuracy: 0.7827\n",
            "Epoch 2/5\n",
            "1125/1125 [==============================] - 2s 2ms/step - loss: 0.5519 - accuracy: 0.7714 - val_loss: 0.5218 - val_accuracy: 0.7828\n",
            "Epoch 3/5\n",
            "1125/1125 [==============================] - 2s 2ms/step - loss: 0.5366 - accuracy: 0.7774 - val_loss: 0.5190 - val_accuracy: 0.7828\n",
            "Epoch 4/5\n",
            "1125/1125 [==============================] - 2s 2ms/step - loss: 0.5306 - accuracy: 0.7775 - val_loss: 0.5188 - val_accuracy: 0.7828\n",
            "Epoch 5/5\n",
            "1125/1125 [==============================] - 2s 2ms/step - loss: 0.5294 - accuracy: 0.7775 - val_loss: 0.5176 - val_accuracy: 0.7828\n",
            "Model: \"sequential_36\"\n",
            "_________________________________________________________________\n",
            "Layer (type)                 Output Shape              Param #   \n",
            "=================================================================\n",
            "dense_313 (Dense)            (None, 256)               6656      \n",
            "_________________________________________________________________\n",
            "dense_314 (Dense)            (None, 32)                8224      \n",
            "_________________________________________________________________\n",
            "dropout_7 (Dropout)          (None, 32)                0         \n",
            "_________________________________________________________________\n",
            "dense_315 (Dense)            (None, 8)                 264       \n",
            "_________________________________________________________________\n",
            "dense_316 (Dense)            (None, 64)                576       \n",
            "_________________________________________________________________\n",
            "dropout_8 (Dropout)          (None, 64)                0         \n",
            "_________________________________________________________________\n",
            "dense_317 (Dense)            (None, 1)                 65        \n",
            "=================================================================\n",
            "Total params: 15,785\n",
            "Trainable params: 15,785\n",
            "Non-trainable params: 0\n",
            "_________________________________________________________________\n"
          ],
          "name": "stdout"
        }
      ]
    },
    {
      "cell_type": "markdown",
      "metadata": {
        "id": "L8jKbwuBQI8j",
        "colab_type": "text"
      },
      "source": [
        "# Validation Accuracy"
      ]
    },
    {
      "cell_type": "code",
      "metadata": {
        "id": "kYwnZAVqQYev",
        "colab_type": "code",
        "colab": {
          "base_uri": "https://localhost:8080/",
          "height": 34
        },
        "outputId": "3ad579c9-40a2-4499-b6c0-2c4e936c338a"
      },
      "source": [
        "print(\"The Validation accuracy is:\", np.mean(fitted_model.history[\"val_accuracy\"]))"
      ],
      "execution_count": 55,
      "outputs": [
        {
          "output_type": "stream",
          "text": [
            "The Validation accuracy is: 0.7827733516693115\n"
          ],
          "name": "stdout"
        }
      ]
    }
  ]
}